{
 "cells": [
  {
   "cell_type": "markdown",
   "metadata": {},
   "source": [
    "# Defining a type"
   ]
  },
  {
   "cell_type": "markdown",
   "metadata": {},
   "source": [
    "### Creating a type called Point using struct\n",
    "\n",
    "(0,0) represents the origin and (x, y) represents a point in the cartesian plane."
   ]
  },
  {
   "cell_type": "code",
   "execution_count": 1,
   "metadata": {},
   "outputs": [],
   "source": [
    "struct Point # header, a new struct called Point\n",
    "    x  # Body of the struct. These are called attributes or fields of the struct\n",
    "    y\n",
    "end"
   ]
  },
  {
   "cell_type": "markdown",
   "metadata": {},
   "source": [
    "A struct is like a factory for creating objects. To create a point, we call Point like any other function with arguments. When Point is used as a function, it is called a constructor."
   ]
  },
  {
   "cell_type": "code",
   "execution_count": 2,
   "metadata": {},
   "outputs": [
    {
     "data": {
      "text/plain": [
       "Point(2, 3)"
      ]
     },
     "execution_count": 2,
     "metadata": {},
     "output_type": "execute_result"
    }
   ],
   "source": [
    "p = Point(2,3) # Creating a new \"object\" is called instantiation. Here the object is p"
   ]
  },
  {
   "cell_type": "code",
   "execution_count": 3,
   "metadata": {},
   "outputs": [
    {
     "name": "stdout",
     "output_type": "stream",
     "text": [
      "Point(2, 3)"
     ]
    }
   ],
   "source": [
    "print(p)"
   ]
  },
  {
   "cell_type": "markdown",
   "metadata": {},
   "source": [
    "# Structs are immutable"
   ]
  },
  {
   "cell_type": "markdown",
   "metadata": {},
   "source": [
    "We can get the values of the instantiated variable using the . notation."
   ]
  },
  {
   "cell_type": "code",
   "execution_count": 4,
   "metadata": {},
   "outputs": [
    {
     "name": "stdout",
     "output_type": "stream",
     "text": [
      "(2, 3)\n"
     ]
    }
   ],
   "source": [
    "x = p.x\n",
    "y = p.y\n",
    "\n",
    "println((x,y))"
   ]
  },
  {
   "cell_type": "code",
   "execution_count": 5,
   "metadata": {},
   "outputs": [
    {
     "data": {
      "text/plain": [
       "3.605551275463989"
      ]
     },
     "execution_count": 5,
     "metadata": {},
     "output_type": "execute_result"
    }
   ],
   "source": [
    "distance = √(x^2 + y^2)"
   ]
  },
  {
   "cell_type": "code",
   "execution_count": 6,
   "metadata": {},
   "outputs": [
    {
     "ename": "ErrorException",
     "evalue": "setfield! immutable struct of type Point cannot be changed",
     "output_type": "error",
     "traceback": [
      "setfield! immutable struct of type Point cannot be changed",
      "",
      "Stacktrace:",
      " [1] setproperty!(::Point, ::Symbol, ::Int64) at .\\sysimg.jl:19",
      " [2] top-level scope at In[6]:1"
     ]
    }
   ],
   "source": [
    "p.x = 5"
   ]
  },
  {
   "cell_type": "markdown",
   "metadata": {},
   "source": [
    "# Mutable Structs"
   ]
  },
  {
   "cell_type": "code",
   "execution_count": 7,
   "metadata": {},
   "outputs": [],
   "source": [
    "mutable struct MPoint\n",
    "    x\n",
    "    y\n",
    "end"
   ]
  },
  {
   "cell_type": "code",
   "execution_count": 8,
   "metadata": {},
   "outputs": [
    {
     "data": {
      "text/plain": [
       "MPoint(0.0, 0.0)"
      ]
     },
     "execution_count": 8,
     "metadata": {},
     "output_type": "execute_result"
    }
   ],
   "source": [
    "blank = MPoint(0.0, 0.0)"
   ]
  },
  {
   "cell_type": "code",
   "execution_count": 9,
   "metadata": {},
   "outputs": [
    {
     "data": {
      "text/plain": [
       "0.0"
      ]
     },
     "execution_count": 9,
     "metadata": {},
     "output_type": "execute_result"
    }
   ],
   "source": [
    "x = blank.x"
   ]
  },
  {
   "cell_type": "code",
   "execution_count": 10,
   "metadata": {},
   "outputs": [
    {
     "data": {
      "text/plain": [
       "2"
      ]
     },
     "execution_count": 10,
     "metadata": {},
     "output_type": "execute_result"
    }
   ],
   "source": [
    "blank.x = 2 # Reassignment"
   ]
  },
  {
   "cell_type": "markdown",
   "metadata": {},
   "source": [
    "# Representing a rectangle"
   ]
  },
  {
   "cell_type": "code",
   "execution_count": 11,
   "metadata": {},
   "outputs": [],
   "source": [
    "\"\"\"\n",
    "Representing a rectangle\n",
    "\n",
    "fields: width, height, corner\n",
    "\"\"\"\n",
    "\n",
    "\n",
    "struct Rectangle\n",
    "    width\n",
    "    height\n",
    "    corner\n",
    "end"
   ]
  },
  {
   "cell_type": "code",
   "execution_count": 12,
   "metadata": {},
   "outputs": [
    {
     "data": {
      "text/plain": [
       "Rectangle(1, 2, MPoint(0, 0))"
      ]
     },
     "execution_count": 12,
     "metadata": {},
     "output_type": "execute_result"
    }
   ],
   "source": [
    "origin = MPoint(0,0)\n",
    "rect = Rectangle(1,2,origin)"
   ]
  },
  {
   "cell_type": "markdown",
   "metadata": {},
   "source": [
    "# Instances as Arguments\n",
    "\n",
    "You can pass instances as arguments into any function"
   ]
  },
  {
   "cell_type": "code",
   "execution_count": 13,
   "metadata": {},
   "outputs": [
    {
     "data": {
      "text/plain": [
       "printpoint (generic function with 1 method)"
      ]
     },
     "execution_count": 13,
     "metadata": {},
     "output_type": "execute_result"
    }
   ],
   "source": [
    "function printpoint(p)\n",
    "    \"\"\"\n",
    "    Takes a Point as an argument\n",
    "    \"\"\"\n",
    "   println(\"$(p.x), $(p.y)\") \n",
    "end"
   ]
  },
  {
   "cell_type": "code",
   "execution_count": 14,
   "metadata": {},
   "outputs": [
    {
     "name": "stdout",
     "output_type": "stream",
     "text": [
      "2, 3\n"
     ]
    }
   ],
   "source": [
    "printpoint(p)"
   ]
  },
  {
   "cell_type": "markdown",
   "metadata": {},
   "source": [
    "1. Write a function called distancebetweenpoints that takes two points as arguments and returns the distance between them."
   ]
  },
  {
   "cell_type": "code",
   "execution_count": 15,
   "metadata": {},
   "outputs": [
    {
     "data": {
      "text/plain": [
       "distancebetweenpoints (generic function with 1 method)"
      ]
     },
     "execution_count": 15,
     "metadata": {},
     "output_type": "execute_result"
    }
   ],
   "source": [
    "function distancebetweenpoints(p1, p2)\n",
    "    \"\"\"\n",
    "    Takes a Point as an argument\n",
    "    \"\"\"\n",
    "   √((p1.x - p2.x)^2 + (p1.x - p2.x)^2) \n",
    "end"
   ]
  },
  {
   "cell_type": "code",
   "execution_count": 16,
   "metadata": {},
   "outputs": [
    {
     "data": {
      "text/plain": [
       "2.8284271247461903"
      ]
     },
     "execution_count": 16,
     "metadata": {},
     "output_type": "execute_result"
    }
   ],
   "source": [
    "p1 = Point(1,2)\n",
    "p2 = Point(3,5)\n",
    "\n",
    "distancebetweenpoints(p1, p2)"
   ]
  },
  {
   "cell_type": "markdown",
   "metadata": {},
   "source": [
    "### Passing a mutable struct object to a function allows for reassignment of the fields of the object. Passing an immutable object to a function and doing reassignment causes an error."
   ]
  },
  {
   "cell_type": "code",
   "execution_count": 17,
   "metadata": {},
   "outputs": [
    {
     "data": {
      "text/plain": [
       "movepoint! (generic function with 1 method)"
      ]
     },
     "execution_count": 17,
     "metadata": {},
     "output_type": "execute_result"
    }
   ],
   "source": [
    "function movepoint!(p, dx, dy)\n",
    "    p.x += dx\n",
    "    p.y += dy\n",
    "    nothing\n",
    "end"
   ]
  },
  {
   "cell_type": "code",
   "execution_count": 18,
   "metadata": {},
   "outputs": [
    {
     "name": "stdout",
     "output_type": "stream",
     "text": [
      "(0, 0)\n"
     ]
    }
   ],
   "source": [
    "origin = MPoint(0,0)\n",
    "println((origin.x,origin.y))"
   ]
  },
  {
   "cell_type": "code",
   "execution_count": 19,
   "metadata": {},
   "outputs": [
    {
     "name": "stdout",
     "output_type": "stream",
     "text": [
      "(0.5, 9)\n"
     ]
    }
   ],
   "source": [
    "movepoint!(origin, 0.5, 9)\n",
    "println((origin.x,origin.y))"
   ]
  },
  {
   "cell_type": "markdown",
   "metadata": {},
   "source": [
    "### Passing an immutable Point object to movepoint!() causes an error"
   ]
  },
  {
   "cell_type": "code",
   "execution_count": 20,
   "metadata": {},
   "outputs": [
    {
     "ename": "ErrorException",
     "evalue": "setfield! immutable struct of type Point cannot be changed",
     "output_type": "error",
     "traceback": [
      "setfield! immutable struct of type Point cannot be changed",
      "",
      "Stacktrace:",
      " [1] setproperty! at .\\sysimg.jl:19 [inlined]",
      " [2] movepoint!(::Point, ::Float64, ::Int64) at .\\In[17]:2",
      " [3] top-level scope at In[20]:1"
     ]
    }
   ],
   "source": [
    "movepoint!(p, 0.5, 9)"
   ]
  },
  {
   "cell_type": "markdown",
   "metadata": {},
   "source": [
    "### We can change the value of a mutable attribute of an immutable object"
   ]
  },
  {
   "cell_type": "code",
   "execution_count": 21,
   "metadata": {},
   "outputs": [
    {
     "data": {
      "text/plain": [
       "moverectangle! (generic function with 1 method)"
      ]
     },
     "execution_count": 21,
     "metadata": {},
     "output_type": "execute_result"
    }
   ],
   "source": [
    "function moverectangle!(rect, dx, dy)\n",
    "  movepoint!(rect.corner, dx, dy)\n",
    "end"
   ]
  },
  {
   "cell_type": "code",
   "execution_count": 22,
   "metadata": {},
   "outputs": [
    {
     "data": {
      "text/plain": [
       "Rectangle(100.0, 200, MPoint(0, 0))"
      ]
     },
     "execution_count": 22,
     "metadata": {},
     "output_type": "execute_result"
    }
   ],
   "source": [
    "box = Rectangle(100.0, 200, MPoint(0,0))"
   ]
  },
  {
   "cell_type": "code",
   "execution_count": 23,
   "metadata": {},
   "outputs": [
    {
     "data": {
      "text/plain": [
       "MPoint(0, 0)"
      ]
     },
     "execution_count": 23,
     "metadata": {},
     "output_type": "execute_result"
    }
   ],
   "source": [
    "box.corner"
   ]
  },
  {
   "cell_type": "code",
   "execution_count": 24,
   "metadata": {},
   "outputs": [],
   "source": [
    "moverectangle!(box,1,2)"
   ]
  },
  {
   "cell_type": "code",
   "execution_count": 25,
   "metadata": {},
   "outputs": [
    {
     "data": {
      "text/plain": [
       "MPoint(1, 2)"
      ]
     },
     "execution_count": 25,
     "metadata": {},
     "output_type": "execute_result"
    }
   ],
   "source": [
    "box.corner"
   ]
  },
  {
   "cell_type": "code",
   "execution_count": null,
   "metadata": {},
   "outputs": [],
   "source": []
  },
  {
   "cell_type": "markdown",
   "metadata": {},
   "source": [
    "# Instances as Return values"
   ]
  },
  {
   "cell_type": "code",
   "execution_count": 26,
   "metadata": {},
   "outputs": [
    {
     "data": {
      "text/plain": [
       "findcenter (generic function with 1 method)"
      ]
     },
     "execution_count": 26,
     "metadata": {},
     "output_type": "execute_result"
    }
   ],
   "source": [
    "function findcenter(rect)\n",
    "    \"\"\"\n",
    "    Takes in a Rectangle object.\n",
    "    \"\"\"\n",
    "    Point(rect.corner.x + rect.width / 2, rect.corner.y + rect.height / 2)\n",
    "end"
   ]
  },
  {
   "cell_type": "code",
   "execution_count": 27,
   "metadata": {},
   "outputs": [
    {
     "data": {
      "text/plain": [
       "Point(51.0, 102.0)"
      ]
     },
     "execution_count": 27,
     "metadata": {},
     "output_type": "execute_result"
    }
   ],
   "source": [
    "findcenter(box) # what is returned is a Point object"
   ]
  },
  {
   "cell_type": "code",
   "execution_count": null,
   "metadata": {},
   "outputs": [],
   "source": []
  },
  {
   "cell_type": "markdown",
   "metadata": {},
   "source": [
    "# Copying"
   ]
  },
  {
   "cell_type": "code",
   "execution_count": 28,
   "metadata": {},
   "outputs": [
    {
     "data": {
      "text/plain": [
       "MPoint(3, 4)"
      ]
     },
     "execution_count": 28,
     "metadata": {},
     "output_type": "execute_result"
    }
   ],
   "source": [
    "p1 = MPoint(3,4)\n",
    "p2 = deepcopy(p1)"
   ]
  },
  {
   "cell_type": "code",
   "execution_count": 29,
   "metadata": {},
   "outputs": [
    {
     "data": {
      "text/plain": [
       "false"
      ]
     },
     "execution_count": 29,
     "metadata": {},
     "output_type": "execute_result"
    }
   ],
   "source": [
    "p1 ≡ p2 # For mutable objects the default behaviour is  "
   ]
  },
  {
   "cell_type": "code",
   "execution_count": 30,
   "metadata": {},
   "outputs": [
    {
     "data": {
      "text/plain": [
       "false"
      ]
     },
     "execution_count": 30,
     "metadata": {},
     "output_type": "execute_result"
    }
   ],
   "source": [
    "p1 === p2 # Egality"
   ]
  },
  {
   "cell_type": "markdown",
   "metadata": {},
   "source": [
    "2. Create a Point instance, make a copy of it and check the equivalence and the egality of both. The result can surprise you but it explains why aliasing is a non issue for an immutable object.\n",
    "\n"
   ]
  },
  {
   "cell_type": "code",
   "execution_count": 31,
   "metadata": {},
   "outputs": [
    {
     "data": {
      "text/plain": [
       "true"
      ]
     },
     "execution_count": 31,
     "metadata": {},
     "output_type": "execute_result"
    }
   ],
   "source": [
    "# Create a point object\n",
    "pt = Point(1,1)\n",
    "\n",
    "# Copy\n",
    "pu = deepcopy(pt)\n",
    "\n",
    "# Check equivalence\n",
    "pt ≡ pu\n",
    "\n",
    "# Check egality\n",
    "pt === pu"
   ]
  },
  {
   "cell_type": "markdown",
   "metadata": {},
   "source": [
    "# Exercises"
   ]
  },
  {
   "cell_type": "markdown",
   "metadata": {},
   "source": [
    "1. Write a definition for a type named Circle with fields center and radius, where center is a Point object and radius is a number."
   ]
  },
  {
   "cell_type": "code",
   "execution_count": 32,
   "metadata": {},
   "outputs": [],
   "source": [
    "struct circle\n",
    "    center\n",
    "    radius\n",
    "end"
   ]
  },
  {
   "cell_type": "markdown",
   "metadata": {},
   "source": [
    "2. Instantiate a circle object that represents a circle with its center at (150,100) and radius 75.\n",
    "\n"
   ]
  },
  {
   "cell_type": "code",
   "execution_count": 33,
   "metadata": {},
   "outputs": [
    {
     "data": {
      "text/plain": [
       "circle(Point(150, 100), 75)"
      ]
     },
     "execution_count": 33,
     "metadata": {},
     "output_type": "execute_result"
    }
   ],
   "source": [
    "crc = circle(Point(150,100), 75)"
   ]
  },
  {
   "cell_type": "markdown",
   "metadata": {},
   "source": [
    "3. Write a function named pointincircle that takes a Circle object and a Point object and returns true if the point lies in or on the boundary of the circle. Say we have an arbitrary point on the cartesian plane $\\text{my$_{\\text{pt}}$} = (x_p, y_p)$ The condition shall be:\n",
    "   $$\\sqrt{(x_p - x_c)^2 +(y_p - y_c)^2} \\le r$$"
   ]
  },
  {
   "cell_type": "code",
   "execution_count": 34,
   "metadata": {},
   "outputs": [
    {
     "data": {
      "text/plain": [
       "pointincircle (generic function with 1 method)"
      ]
     },
     "execution_count": 34,
     "metadata": {},
     "output_type": "execute_result"
    }
   ],
   "source": [
    "function pointincircle(circle, pt)\n",
    "    # True will be inside or on the circle, false will be outside the circle\n",
    "    distancebetweenpoints(crc.center, pt) <= circle.radius\n",
    "end"
   ]
  },
  {
   "cell_type": "code",
   "execution_count": 35,
   "metadata": {},
   "outputs": [
    {
     "data": {
      "text/plain": [
       "true"
      ]
     },
     "execution_count": 35,
     "metadata": {},
     "output_type": "execute_result"
    }
   ],
   "source": [
    "my_pt = Point(150,200)\n",
    "pointincircle(crc, my_pt)"
   ]
  },
  {
   "cell_type": "markdown",
   "metadata": {},
   "source": [
    "4. Write a function named rectincircle that takes a Circle object and a Rectangle object and returns true if the rectangle lies entirely in or on the boundary of the circle."
   ]
  },
  {
   "cell_type": "code",
   "execution_count": 36,
   "metadata": {},
   "outputs": [
    {
     "data": {
      "text/plain": [
       "rectincircle (generic function with 1 method)"
      ]
     },
     "execution_count": 36,
     "metadata": {},
     "output_type": "execute_result"
    }
   ],
   "source": [
    "function rectincircle(circle, rect)\n",
    "    # Point 1 , Point 2, Point 3, Point 4\n",
    "    pointincircle(circle, rect.corner) && pointincircle(circle, Point(rect.corner.x, rect.corner.y + rect.height)) && pointincircle(circle, Point(rect.corner.x + rect.width, rect.height)) && pointincircle(circle, Point(rect.corner.x + rect.width, rect.corner.y + rect.height))\n",
    "end"
   ]
  },
  {
   "cell_type": "code",
   "execution_count": 37,
   "metadata": {},
   "outputs": [
    {
     "data": {
      "text/plain": [
       "true"
      ]
     },
     "execution_count": 37,
     "metadata": {},
     "output_type": "execute_result"
    }
   ],
   "source": [
    "origin = Point(100,50)\n",
    "rect = Rectangle(100,50, origin)\n",
    "\n",
    "rectincircle(crc, rect)"
   ]
  },
  {
   "cell_type": "markdown",
   "metadata": {},
   "source": [
    "5. Write a function named rectcircleoverlap that takes a Circle object and a Rectangle object and returns true if any of the corners of the rectangle fall inside the circle."
   ]
  },
  {
   "cell_type": "code",
   "execution_count": 38,
   "metadata": {},
   "outputs": [
    {
     "data": {
      "text/plain": [
       "rectcircleoverlap (generic function with 1 method)"
      ]
     },
     "execution_count": 38,
     "metadata": {},
     "output_type": "execute_result"
    }
   ],
   "source": [
    "function rectcircleoverlap(circle, rect)\n",
    "    # Point 1 , Point 2, Point 3, Point 4\n",
    "    pointincircle(circle, rect.corner) || pointincircle(circle, Point(rect.corner.x, rect.corner.y + rect.height)) || pointincircle(circle, Point(rect.corner.x + rect.width, rect.height)) || pointincircle(circle, Point(rect.corner.x + rect.width, rect.corner.y + rect.height))\n",
    "end"
   ]
  },
  {
   "cell_type": "code",
   "execution_count": 39,
   "metadata": {},
   "outputs": [
    {
     "data": {
      "text/plain": [
       "true"
      ]
     },
     "execution_count": 39,
     "metadata": {},
     "output_type": "execute_result"
    }
   ],
   "source": [
    "rectcircleoverlap(crc, rect)"
   ]
  },
  {
   "cell_type": "markdown",
   "metadata": {},
   "source": [
    "6. As a more challenging version, return true if any part of the rectangle falls inside the circle."
   ]
  },
  {
   "cell_type": "code",
   "execution_count": 40,
   "metadata": {},
   "outputs": [
    {
     "data": {
      "text/plain": [
       "rectpartcircleoverlap (generic function with 1 method)"
      ]
     },
     "execution_count": 40,
     "metadata": {},
     "output_type": "execute_result"
    }
   ],
   "source": [
    "function rectpartcircleoverlap(circle, rect)\n",
    "    # Makes a range of points on each side of the rectangle\n",
    "    side1 = [Point(rect.corner.x, y_i) for y_i in range(rect.corner.y, stop=rect.corner.y + rect.height, length=200)]\n",
    "    side2 = [Point(rect.corner.x + x_i, rect.corner.y + rect.height) for x_i in range(rect.corner.x, stop=rect.corner.x + rect.width, length=200)]\n",
    "    side3 = [Point(rect.corner.x + rect.width, y_i) for y_i in range(rect.corner.y, stop=rect.corner.y + rect.height, length=200)]\n",
    "    side4 = [Point(rect.corner.x + x_i, rect.corner.y) for x_i in range(rect.corner.x, stop=rect.corner.x + rect.width, length=200)]\n",
    "    \n",
    "    # the elements of the list comprehension tells us if a point of a side is in the circle. Either be true or false\n",
    "    s1 = sum([pointincircle(crc, point) for point in side1])\n",
    "    s2 = sum([pointincircle(crc, point) for point in side2])\n",
    "    s3 = sum([pointincircle(crc, point) for point in side3])\n",
    "    s4 = sum([pointincircle(crc, point) for point in side4])\n",
    "\n",
    "    # If at least 1 point in each side touches the circle, then the rectangle overlaps the circle\n",
    "    s1 > 0 || s2 > 0 || s3 > 0 || s4 > 0\n",
    "end"
   ]
  },
  {
   "cell_type": "code",
   "execution_count": 41,
   "metadata": {
    "scrolled": true
   },
   "outputs": [
    {
     "data": {
      "text/plain": [
       "true"
      ]
     },
     "execution_count": 41,
     "metadata": {},
     "output_type": "execute_result"
    }
   ],
   "source": [
    "rectpartcircleoverlap(crc, rect)"
   ]
  }
 ],
 "metadata": {
  "@webio": {
   "lastCommId": null,
   "lastKernelId": null
  },
  "kernelspec": {
   "display_name": "Julia 1.1.1",
   "language": "julia",
   "name": "julia-1.1"
  },
  "language_info": {
   "file_extension": ".jl",
   "mimetype": "application/julia",
   "name": "julia",
   "version": "1.1.1"
  }
 },
 "nbformat": 4,
 "nbformat_minor": 2
}
