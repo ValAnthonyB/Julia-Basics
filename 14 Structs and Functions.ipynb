{
 "cells": [
  {
   "cell_type": "code",
   "execution_count": 1,
   "metadata": {},
   "outputs": [],
   "source": [
    "struct myTime\n",
    "    hour\n",
    "    minute\n",
    "    second\n",
    "end"
   ]
  },
  {
   "cell_type": "code",
   "execution_count": 2,
   "metadata": {},
   "outputs": [
    {
     "data": {
      "text/plain": [
       "myTime(1, 30, 40)"
      ]
     },
     "execution_count": 2,
     "metadata": {},
     "output_type": "execute_result"
    }
   ],
   "source": [
    "time = myTime(1,30,40)"
   ]
  },
  {
   "cell_type": "code",
   "execution_count": 3,
   "metadata": {},
   "outputs": [
    {
     "data": {
      "text/plain": [
       "myTime"
      ]
     },
     "execution_count": 3,
     "metadata": {},
     "output_type": "execute_result"
    }
   ],
   "source": [
    "typeof(time)"
   ]
  },
  {
   "cell_type": "markdown",
   "metadata": {},
   "source": [
    "1. Write a function called printtime that takes a MyTime object and prints it in the form hour:minute:second. The @printf macro of the StdLib module Printf prints an integer with the format sequence \"%02d\" using at least two digits, including a leading zero if necessary."
   ]
  },
  {
   "cell_type": "code",
   "execution_count": 4,
   "metadata": {},
   "outputs": [
    {
     "data": {
      "text/plain": [
       "printtime (generic function with 1 method)"
      ]
     },
     "execution_count": 4,
     "metadata": {},
     "output_type": "execute_result"
    }
   ],
   "source": [
    "using Printf\n",
    "\n",
    "function printtime(myTime)\n",
    "    Printf.@printf(\"%02d:%02d:%.2f \\n\", myTime.hour, myTime.minute, myTime.second)\n",
    "end"
   ]
  },
  {
   "cell_type": "code",
   "execution_count": 5,
   "metadata": {},
   "outputs": [
    {
     "name": "stdout",
     "output_type": "stream",
     "text": [
      "01:30:40.00 \n"
     ]
    }
   ],
   "source": [
    "time = myTime(1,30,40)\n",
    "printtime(time)"
   ]
  },
  {
   "cell_type": "markdown",
   "metadata": {},
   "source": [
    "2. Write a boolean function called isafter that takes two MyTime objects, t1 and t2, and returns true if t1 follows t2 chronologically and false otherwise. Challenge: don’t use an if statement."
   ]
  },
  {
   "cell_type": "code",
   "execution_count": 6,
   "metadata": {},
   "outputs": [
    {
     "data": {
      "text/plain": [
       "isafter (generic function with 1 method)"
      ]
     },
     "execution_count": 6,
     "metadata": {},
     "output_type": "execute_result"
    }
   ],
   "source": [
    "function isafter(t1, t2)\n",
    "    t1_tup = (t1.hour,t1.minute ,t1.second)\n",
    "    t2_tup = (t2.hour,t2.minute ,t2.second)\n",
    "\n",
    "    t1_tup > t2_tup\n",
    "end"
   ]
  },
  {
   "cell_type": "code",
   "execution_count": 7,
   "metadata": {},
   "outputs": [
    {
     "data": {
      "text/plain": [
       "false"
      ]
     },
     "execution_count": 7,
     "metadata": {},
     "output_type": "execute_result"
    }
   ],
   "source": [
    "t1 = myTime(1,2,3)\n",
    "t2 = myTime(3,2,1)\n",
    "isafter(t1, t2)"
   ]
  },
  {
   "cell_type": "markdown",
   "metadata": {},
   "source": [
    "# Pure Functions"
   ]
  },
  {
   "cell_type": "markdown",
   "metadata": {},
   "source": [
    "A pure function does not modify any of the objects passed to it as arguments and it has no effect, like displaying a value or getting user input, other than returning a value."
   ]
  },
  {
   "cell_type": "code",
   "execution_count": 8,
   "metadata": {},
   "outputs": [
    {
     "data": {
      "text/plain": [
       "addtime (generic function with 1 method)"
      ]
     },
     "execution_count": 8,
     "metadata": {},
     "output_type": "execute_result"
    }
   ],
   "source": [
    "function addtime(t1, t2)\n",
    "    myTime(t1.hour + t2.hour, t1.minute + t2.minute, t1.second + t2.second)\n",
    "end"
   ]
  },
  {
   "cell_type": "code",
   "execution_count": 9,
   "metadata": {},
   "outputs": [
    {
     "data": {
      "text/plain": [
       "myTime(10, 80, 0)"
      ]
     },
     "execution_count": 9,
     "metadata": {},
     "output_type": "execute_result"
    }
   ],
   "source": [
    "start_time = myTime(9,45,0)\n",
    "duration = myTime(1,35,0)\n",
    "end_time = addtime(start_time, duration)"
   ]
  },
  {
   "cell_type": "markdown",
   "metadata": {},
   "source": [
    "#### The result is problematic since it displays minutes and seconds greater than 59"
   ]
  },
  {
   "cell_type": "code",
   "execution_count": 10,
   "metadata": {},
   "outputs": [
    {
     "data": {
      "text/plain": [
       "addtime_edited (generic function with 1 method)"
      ]
     },
     "execution_count": 10,
     "metadata": {},
     "output_type": "execute_result"
    }
   ],
   "source": [
    "function addtime_edited(t1,t2)\n",
    "    second = t1.second + t2.second\n",
    "    minute = t1.minute + t2.minute\n",
    "    hour = t1.hour + t2.hour\n",
    "    \n",
    "    if second >= 60\n",
    "        minute -= 60\n",
    "        minute += 1\n",
    "    end\n",
    "    \n",
    "    if minute >= 60\n",
    "        minute -= 60\n",
    "        hour += 1\n",
    "    end\n",
    "    myTime(hour, minute, second)\n",
    "end"
   ]
  },
  {
   "cell_type": "code",
   "execution_count": 11,
   "metadata": {},
   "outputs": [
    {
     "data": {
      "text/plain": [
       "myTime(11, 20, 0)"
      ]
     },
     "execution_count": 11,
     "metadata": {},
     "output_type": "execute_result"
    }
   ],
   "source": [
    "start_time = myTime(9,45,0)\n",
    "duration = myTime(1,35,0)\n",
    "end_time = addtime_edited(start_time, duration)"
   ]
  },
  {
   "cell_type": "markdown",
   "metadata": {},
   "source": [
    "# Modifiers\n",
    "\n",
    "A function that modifies the objects it gets as parameters."
   ]
  },
  {
   "cell_type": "code",
   "execution_count": 20,
   "metadata": {},
   "outputs": [
    {
     "data": {
      "text/plain": [
       "increment! (generic function with 1 method)"
      ]
     },
     "execution_count": 20,
     "metadata": {},
     "output_type": "execute_result"
    }
   ],
   "source": [
    "function increment!(time, seconds)\n",
    "    \"\"\"\n",
    "    This function takes in a time object and increments it by the seconds paramter.\n",
    "    \"\"\"\n",
    "    time.second += seconds\n",
    "    \n",
    "    if time.second >= 60\n",
    "        time.second -= 60\n",
    "        time.minute += 1\n",
    "    end\n",
    "    \n",
    "    if time.minute >= 60\n",
    "        time.minute -= 60\n",
    "        time.hour += 1\n",
    "    end\n",
    "    myTime(time.hour, time.minute, time.second)\n",
    "end"
   ]
  },
  {
   "cell_type": "code",
   "execution_count": 21,
   "metadata": {},
   "outputs": [
    {
     "data": {
      "text/plain": [
       "myTime(1, 23, 45)"
      ]
     },
     "execution_count": 21,
     "metadata": {},
     "output_type": "execute_result"
    }
   ],
   "source": [
    "g = myTime(1,23,45)"
   ]
  },
  {
   "cell_type": "code",
   "execution_count": 22,
   "metadata": {},
   "outputs": [
    {
     "ename": "ErrorException",
     "evalue": "setfield! immutable struct of type myTime cannot be changed",
     "output_type": "error",
     "traceback": [
      "setfield! immutable struct of type myTime cannot be changed",
      "",
      "Stacktrace:",
      " [1] setproperty! at .\\sysimg.jl:19 [inlined]",
      " [2] increment!(::myTime, ::Int64) at .\\In[20]:5",
      " [3] top-level scope at In[22]:1"
     ]
    }
   ],
   "source": [
    "increment!(g, 45)"
   ]
  },
  {
   "cell_type": "code",
   "execution_count": null,
   "metadata": {},
   "outputs": [],
   "source": []
  },
  {
   "cell_type": "code",
   "execution_count": null,
   "metadata": {},
   "outputs": [],
   "source": []
  },
  {
   "cell_type": "code",
   "execution_count": 31,
   "metadata": {},
   "outputs": [
    {
     "data": {
      "text/plain": [
       "timetoint (generic function with 1 method)"
      ]
     },
     "execution_count": 31,
     "metadata": {},
     "output_type": "execute_result"
    }
   ],
   "source": [
    "function timetoint(time)\n",
    "    minutes = time.hour * 60 + time.minute\n",
    "    seconds = minutes * 60 + time.second\n",
    "end"
   ]
  },
  {
   "cell_type": "code",
   "execution_count": 37,
   "metadata": {},
   "outputs": [
    {
     "data": {
      "text/plain": [
       "inttotime (generic function with 1 method)"
      ]
     },
     "execution_count": 37,
     "metadata": {},
     "output_type": "execute_result"
    }
   ],
   "source": [
    "function inttotime(seconds)\n",
    "    (minutes, second) = divrem(seconds, 60)\n",
    "    hour, minute = divrem(minutes, 60)\n",
    "    myTime(hour, minute, second)\n",
    "end"
   ]
  },
  {
   "cell_type": "code",
   "execution_count": 33,
   "metadata": {},
   "outputs": [
    {
     "data": {
      "text/plain": [
       "addtime (generic function with 1 method)"
      ]
     },
     "execution_count": 33,
     "metadata": {},
     "output_type": "execute_result"
    }
   ],
   "source": [
    "function addtime(t1, t2)\n",
    "    seconds = timetoint(t1) + timetoint(t2)\n",
    "    inttotime(seconds)\n",
    "end"
   ]
  },
  {
   "cell_type": "code",
   "execution_count": null,
   "metadata": {},
   "outputs": [],
   "source": []
  },
  {
   "cell_type": "markdown",
   "metadata": {},
   "source": [
    "# Debugging"
   ]
  },
  {
   "cell_type": "code",
   "execution_count": 38,
   "metadata": {},
   "outputs": [
    {
     "data": {
      "text/plain": [
       "isvalidtime (generic function with 1 method)"
      ]
     },
     "execution_count": 38,
     "metadata": {},
     "output_type": "execute_result"
    }
   ],
   "source": [
    "function isvalidtime(t)\n",
    "    \"\"\"\n",
    "    Requirements such as hours, minutes, and seconds must be greater than 0 is called an invariant because they should\n",
    "    always be true. Writing code to check invariants can help detect errors and find their causes.\n",
    "    \"\"\"\n",
    "    if t.hour < 0 || t.minute < 0 || t.second <0\n",
    "        return false\n",
    "    end\n",
    "    if t.minute >= 60 || t.second >= 60\n",
    "        return false\n",
    "    end\n",
    "    true\n",
    "end"
   ]
  },
  {
   "cell_type": "code",
   "execution_count": 39,
   "metadata": {},
   "outputs": [
    {
     "data": {
      "text/plain": [
       "addtime (generic function with 1 method)"
      ]
     },
     "execution_count": 39,
     "metadata": {},
     "output_type": "execute_result"
    }
   ],
   "source": [
    "function addtime(t1, t2)\n",
    "    if !isvalidtime(t1) || !isvalidtime(t2) # Checks if both parameters are correct times\n",
    "        error(\"invalid MyTime object in add_time\")\n",
    "    end\n",
    "    seconds = timetoint(t1) + timetoint(t2)\n",
    "    inttotime(seconds)\n",
    "end"
   ]
  },
  {
   "cell_type": "code",
   "execution_count": 40,
   "metadata": {},
   "outputs": [
    {
     "data": {
      "text/plain": [
       "myTime(4, 4, 4)"
      ]
     },
     "execution_count": 40,
     "metadata": {},
     "output_type": "execute_result"
    }
   ],
   "source": [
    "t1 = myTime(1,2,3)\n",
    "t2 = myTime(3,2,1)\n",
    "addtime(t1, t2)"
   ]
  },
  {
   "cell_type": "markdown",
   "metadata": {},
   "source": [
    "# Assert\n",
    "\n",
    "Checks a given invariant and throws an exception if it fails."
   ]
  },
  {
   "cell_type": "code",
   "execution_count": 41,
   "metadata": {},
   "outputs": [
    {
     "data": {
      "text/plain": [
       "addtime (generic function with 1 method)"
      ]
     },
     "execution_count": 41,
     "metadata": {},
     "output_type": "execute_result"
    }
   ],
   "source": [
    "function addtime(t1, t2)\n",
    "    @assert(isvalidtime(t1) && isvalidtime(t2), \"invalid MyTime object in add_time\")\n",
    "    seconds = timetoint(t1) + timetoint(t2)\n",
    "    inttotime(seconds)\n",
    "end"
   ]
  },
  {
   "cell_type": "code",
   "execution_count": 42,
   "metadata": {},
   "outputs": [
    {
     "ename": "AssertionError",
     "evalue": "AssertionError: invalid MyTime object in add_time",
     "output_type": "error",
     "traceback": [
      "AssertionError: invalid MyTime object in add_time",
      "",
      "Stacktrace:",
      " [1] addtime(::myTime, ::myTime) at .\\In[41]:2",
      " [2] top-level scope at In[42]:3"
     ]
    }
   ],
   "source": [
    "t1 = myTime(0,-1,5)\n",
    "t2 = myTime(0,-3,-23)\n",
    "addtime(t1, t2)"
   ]
  },
  {
   "cell_type": "code",
   "execution_count": null,
   "metadata": {},
   "outputs": [],
   "source": []
  },
  {
   "cell_type": "code",
   "execution_count": null,
   "metadata": {},
   "outputs": [],
   "source": []
  },
  {
   "cell_type": "code",
   "execution_count": null,
   "metadata": {},
   "outputs": [],
   "source": []
  }
 ],
 "metadata": {
  "@webio": {
   "lastCommId": null,
   "lastKernelId": null
  },
  "kernelspec": {
   "display_name": "Julia 1.1.1",
   "language": "julia",
   "name": "julia-1.1"
  },
  "language_info": {
   "file_extension": ".jl",
   "mimetype": "application/julia",
   "name": "julia",
   "version": "1.1.1"
  }
 },
 "nbformat": 4,
 "nbformat_minor": 2
}
