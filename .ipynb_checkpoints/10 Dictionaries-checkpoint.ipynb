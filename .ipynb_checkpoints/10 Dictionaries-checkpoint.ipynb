{
 "cells": [
  {
   "cell_type": "markdown",
   "metadata": {},
   "source": [
    "# What is a dictionary?\n",
    "\n",
    "A dictionary is like an array, but more general. In an array, the indices have to be integers; in a dictionary they can be (almost) any type. A dictionary contains a collection of indices which are keys, and a collection of values. Each key is associated with a single value. The association of a key and a value is called a \"key-value\" pair.\n",
    "\n",
    "$$\\text{Dict(key1 => value1, key2 => value2)}$$\n",
    "\n",
    "A dictionary is a mapping from keys to values, so you can also say that each key maps to a value. As an example, we'll build a dictionary that maps from English to Spanish words, so the keys and the values are all strings."
   ]
  },
  {
   "cell_type": "code",
   "execution_count": 1,
   "metadata": {},
   "outputs": [
    {
     "data": {
      "text/plain": [
       "Dict{Any,Any} with 0 entries"
      ]
     },
     "execution_count": 1,
     "metadata": {},
     "output_type": "execute_result"
    }
   ],
   "source": [
    "eng2sp = Dict() # We create a dictionary with no keys and values"
   ]
  },
  {
   "cell_type": "markdown",
   "metadata": {},
   "source": [
    "### Creating key-value pairs"
   ]
  },
  {
   "cell_type": "code",
   "execution_count": 2,
   "metadata": {},
   "outputs": [
    {
     "name": "stdout",
     "output_type": "stream",
     "text": [
      "Dict{Any,Any}(\"one\"=>\"uno\")\n"
     ]
    }
   ],
   "source": [
    "eng2sp[\"one\"] = \"uno\" # Creates an item that maps from the key of \"one\" to the value uno\n",
    "println(eng2sp) "
   ]
  },
  {
   "cell_type": "code",
   "execution_count": 3,
   "metadata": {},
   "outputs": [
    {
     "data": {
      "text/plain": [
       "Dict{String,String} with 3 entries:\n",
       "  \"two\"   => \"dos\"\n",
       "  \"one\"   => \"uno\"\n",
       "  \"three\" => \"tres\""
      ]
     },
     "execution_count": 3,
     "metadata": {},
     "output_type": "execute_result"
    }
   ],
   "source": [
    "eng2sp = Dict(\"one\" => \"uno\", \"two\" => \"dos\", \"three\" => \"tres\") # When printing a dictionary, the order is unpredictable"
   ]
  },
  {
   "cell_type": "markdown",
   "metadata": {},
   "source": [
    "# Lookup\n",
    "\n",
    "Given a dictionary d and a key k, it is easy to find the corresponding value with v = d[k]."
   ]
  },
  {
   "cell_type": "code",
   "execution_count": 4,
   "metadata": {},
   "outputs": [
    {
     "data": {
      "text/plain": [
       "\"uno\""
      ]
     },
     "execution_count": 4,
     "metadata": {},
     "output_type": "execute_result"
    }
   ],
   "source": [
    "val = eng2sp[\"one\"]"
   ]
  },
  {
   "cell_type": "markdown",
   "metadata": {},
   "source": [
    "### Length of a dictionary"
   ]
  },
  {
   "cell_type": "code",
   "execution_count": 5,
   "metadata": {},
   "outputs": [
    {
     "data": {
      "text/plain": [
       "3"
      ]
     },
     "execution_count": 5,
     "metadata": {},
     "output_type": "execute_result"
    }
   ],
   "source": [
    "length(eng2sp) "
   ]
  },
  {
   "cell_type": "markdown",
   "metadata": {},
   "source": [
    "### keys() function\n",
    "\n",
    "Returns the keys of the dictionary"
   ]
  },
  {
   "cell_type": "code",
   "execution_count": 6,
   "metadata": {},
   "outputs": [
    {
     "name": "stdout",
     "output_type": "stream",
     "text": [
      "[\"two\", \"one\", \"three\"]\n"
     ]
    }
   ],
   "source": [
    "ks = keys(eng2sp)\n",
    "println(ks)"
   ]
  },
  {
   "cell_type": "code",
   "execution_count": 7,
   "metadata": {},
   "outputs": [
    {
     "name": "stdout",
     "output_type": "stream",
     "text": [
      "dos\n",
      "uno\n",
      "tres\n"
     ]
    }
   ],
   "source": [
    "for i in keys(eng2sp)\n",
    "     println(eng2sp[i])\n",
    "end"
   ]
  },
  {
   "cell_type": "markdown",
   "metadata": {},
   "source": [
    "### values() function\n",
    "\n",
    "Get the values of the dictionary"
   ]
  },
  {
   "cell_type": "code",
   "execution_count": 8,
   "metadata": {},
   "outputs": [
    {
     "name": "stdout",
     "output_type": "stream",
     "text": [
      "[\"dos\", \"uno\", \"tres\"]\n"
     ]
    }
   ],
   "source": [
    "vals = values(eng2sp)\n",
    "println(vals)"
   ]
  },
  {
   "cell_type": "markdown",
   "metadata": {},
   "source": [
    "# Dictionary as counters"
   ]
  },
  {
   "cell_type": "code",
   "execution_count": 9,
   "metadata": {},
   "outputs": [
    {
     "data": {
      "text/plain": [
       "histogram (generic function with 1 method)"
      ]
     },
     "execution_count": 9,
     "metadata": {},
     "output_type": "execute_result"
    }
   ],
   "source": [
    "function histogram(s)\n",
    "    \"\"\"Accepts a string and counts the number of times a letter appears\"\"\"\n",
    "    # Initialize an empty dictionary\n",
    "    d = Dict()\n",
    "    for c in s # traverses the string\n",
    "        \n",
    "        # If the letter is not in the dictionary\n",
    "        if c ∉ keys(d)\n",
    "            d[c] = 1 # Create a key-value pair\n",
    "            \n",
    "        # If the letter is already in the dictionary as a key\n",
    "        else\n",
    "            d[c] += 1 # increment by 1\n",
    "        end\n",
    "    end\n",
    "    \n",
    "    return d # Return the dictionary of letters and counters\n",
    "end"
   ]
  },
  {
   "cell_type": "code",
   "execution_count": 10,
   "metadata": {},
   "outputs": [
    {
     "data": {
      "text/plain": [
       "Dict{Any,Any} with 8 entries:\n",
       "  'n' => 1\n",
       "  's' => 2\n",
       "  'a' => 1\n",
       "  'r' => 2\n",
       "  't' => 1\n",
       "  'o' => 2\n",
       "  'u' => 2\n",
       "  'b' => 1"
      ]
     },
     "execution_count": 10,
     "metadata": {},
     "output_type": "execute_result"
    }
   ],
   "source": [
    "his = histogram(\"brontosaurus\")"
   ]
  },
  {
   "cell_type": "markdown",
   "metadata": {},
   "source": [
    "### get()\n",
    "\n",
    "Takes in a dictionary, a key, and a default value."
   ]
  },
  {
   "cell_type": "code",
   "execution_count": 11,
   "metadata": {},
   "outputs": [
    {
     "data": {
      "text/plain": [
       "Dict{Any,Any} with 1 entry:\n",
       "  'a' => 1"
      ]
     },
     "execution_count": 11,
     "metadata": {},
     "output_type": "execute_result"
    }
   ],
   "source": [
    "h = histogram(\"a\")"
   ]
  },
  {
   "cell_type": "code",
   "execution_count": 12,
   "metadata": {},
   "outputs": [
    {
     "data": {
      "text/plain": [
       "1"
      ]
     },
     "execution_count": 12,
     "metadata": {},
     "output_type": "execute_result"
    }
   ],
   "source": [
    "get(h, 'a', 2) # If we enter a key that is already in the dictionary, get() returns the value in the dictionary (not the default value)"
   ]
  },
  {
   "cell_type": "code",
   "execution_count": 13,
   "metadata": {},
   "outputs": [
    {
     "data": {
      "text/plain": [
       "2"
      ]
     },
     "execution_count": 13,
     "metadata": {},
     "output_type": "execute_result"
    }
   ],
   "source": [
    "get(h, 'b', 2) # If we enter a key that is not in the dictionary, get() returns the default value"
   ]
  },
  {
   "cell_type": "code",
   "execution_count": 14,
   "metadata": {},
   "outputs": [
    {
     "data": {
      "text/plain": [
       "Dict{Any,Any} with 1 entry:\n",
       "  'a' => 1"
      ]
     },
     "execution_count": 14,
     "metadata": {},
     "output_type": "execute_result"
    }
   ],
   "source": [
    "h # get() does not change the dictionary "
   ]
  },
  {
   "cell_type": "markdown",
   "metadata": {},
   "source": [
    "1. Use get to write histogram more concisely. You should be able to eliminate the if statement.\n",
    "\n"
   ]
  },
  {
   "cell_type": "code",
   "execution_count": 15,
   "metadata": {},
   "outputs": [
    {
     "data": {
      "text/plain": [
       "histo (generic function with 1 method)"
      ]
     },
     "execution_count": 15,
     "metadata": {},
     "output_type": "execute_result"
    }
   ],
   "source": [
    "function histo(s)\n",
    "    d = Dict()\n",
    "    for c in s    \n",
    "        # Add the letter to the dictionary as keys with a default value of 0\n",
    "        d[c] = get(d, c, 0)\n",
    "\n",
    "        # Increments the count by 1 each time a letter is mentioned\n",
    "        d[c]+= 1\n",
    "    end\n",
    "    return d # return the dictionary\n",
    "end"
   ]
  },
  {
   "cell_type": "code",
   "execution_count": 16,
   "metadata": {},
   "outputs": [
    {
     "data": {
      "text/plain": [
       "Dict{Any,Any} with 8 entries:\n",
       "  'n' => 1\n",
       "  's' => 2\n",
       "  'a' => 1\n",
       "  'r' => 2\n",
       "  't' => 1\n",
       "  'o' => 2\n",
       "  'u' => 2\n",
       "  'b' => 1"
      ]
     },
     "execution_count": 16,
     "metadata": {},
     "output_type": "execute_result"
    }
   ],
   "source": [
    "s = \"brontosaurus\"\n",
    "histo(s)"
   ]
  },
  {
   "cell_type": "markdown",
   "metadata": {},
   "source": [
    "# Looping and Dictionaries"
   ]
  },
  {
   "cell_type": "code",
   "execution_count": 17,
   "metadata": {},
   "outputs": [
    {
     "data": {
      "text/plain": [
       "printhist (generic function with 1 method)"
      ]
     },
     "execution_count": 17,
     "metadata": {},
     "output_type": "execute_result"
    }
   ],
   "source": [
    "function printhist(h)\n",
    "    for c in keys(h)\n",
    "        println(c, \" \", h[c])\n",
    "    end\n",
    "end"
   ]
  },
  {
   "cell_type": "code",
   "execution_count": 18,
   "metadata": {},
   "outputs": [
    {
     "name": "stdout",
     "output_type": "stream",
     "text": [
      "a 1\n",
      "r 2\n",
      "p 1\n",
      "o 1\n",
      "t 1\n"
     ]
    }
   ],
   "source": [
    "h = histogram(\"parrot\"); printhist(h) # How about if we want to print it in alphabetical order??"
   ]
  },
  {
   "cell_type": "code",
   "execution_count": 19,
   "metadata": {},
   "outputs": [
    {
     "data": {
      "text/plain": [
       "printhist (generic function with 1 method)"
      ]
     },
     "execution_count": 19,
     "metadata": {},
     "output_type": "execute_result"
    }
   ],
   "source": [
    "function printhist(h)\n",
    "    for c in sort(collect(keys(h)))\n",
    "        println(c, \" \", h[c])\n",
    "    end\n",
    "end"
   ]
  },
  {
   "cell_type": "code",
   "execution_count": 20,
   "metadata": {},
   "outputs": [
    {
     "name": "stdout",
     "output_type": "stream",
     "text": [
      "a 1\n",
      "o 1\n",
      "p 1\n",
      "r 2\n",
      "t 1\n"
     ]
    }
   ],
   "source": [
    "h = histogram(\"parrot\"); printhist(h) # How about if we want to print it in alphabetical order??"
   ]
  },
  {
   "cell_type": "markdown",
   "metadata": {},
   "source": [
    "# Reverse Lookup\n",
    "\n",
    "We already have the value v but we want to find k. There are two problems with this.\n",
    "\n",
    "1) The associated value might have more than one key\n",
    "\n",
    "2) There is no direct way to do this in Julia"
   ]
  },
  {
   "cell_type": "code",
   "execution_count": 21,
   "metadata": {},
   "outputs": [
    {
     "data": {
      "text/plain": [
       "reverselookup (generic function with 1 method)"
      ]
     },
     "execution_count": 21,
     "metadata": {},
     "output_type": "execute_result"
    }
   ],
   "source": [
    "function reverselookup(d, v)\n",
    "    \"\"\"Accepts a dictionary and a specified value\"\"\"\n",
    "    # Initialize empty array\n",
    "    k_v = []\n",
    "    for k in keys(d)\n",
    "        if d[k] == v\n",
    "            push!(k_v, k)\n",
    "        end\n",
    "    end\n",
    "    \n",
    "    if length(k_v) == 0\n",
    "        error(\"LookupError\")\n",
    "    end\n",
    "    # Returns the keys that have the value equal to the user-specified value\n",
    "    k_v\n",
    "end"
   ]
  },
  {
   "cell_type": "code",
   "execution_count": 22,
   "metadata": {},
   "outputs": [
    {
     "data": {
      "text/plain": [
       "4-element Array{Any,1}:\n",
       " 'a'\n",
       " 'p'\n",
       " 'o'\n",
       " 't'"
      ]
     },
     "execution_count": 22,
     "metadata": {},
     "output_type": "execute_result"
    }
   ],
   "source": [
    "h = histogram(\"parrot\")\n",
    "key = reverselookup(h, 1) # Looks for keys with values 2"
   ]
  },
  {
   "cell_type": "markdown",
   "metadata": {},
   "source": [
    "#### Julia's way of reverse lookup"
   ]
  },
  {
   "cell_type": "code",
   "execution_count": 23,
   "metadata": {},
   "outputs": [
    {
     "data": {
      "text/plain": [
       "4-element Array{Char,1}:\n",
       " 'a'\n",
       " 'p'\n",
       " 'o'\n",
       " 't'"
      ]
     },
     "execution_count": 23,
     "metadata": {},
     "output_type": "execute_result"
    }
   ],
   "source": [
    "findall(isequal(1), h)"
   ]
  },
  {
   "cell_type": "markdown",
   "metadata": {},
   "source": [
    "# Dictionaries and Arrays\n",
    "\n",
    "Arrays can appear as values in an array."
   ]
  },
  {
   "cell_type": "code",
   "execution_count": 24,
   "metadata": {},
   "outputs": [
    {
     "data": {
      "text/plain": [
       "invertdict (generic function with 1 method)"
      ]
     },
     "execution_count": 24,
     "metadata": {},
     "output_type": "execute_result"
    }
   ],
   "source": [
    "function invertdict(d)\n",
    "    # Initialize inverse dictionary as an empty dictionary\n",
    "    inverse = Dict()\n",
    "    \n",
    "    # traverse the keys of the dictionary\n",
    "    for key in keys(d)\n",
    "        # lookup the value of the certain key in the original dictionary\n",
    "        val = d[key]\n",
    "\n",
    "        # If the value is not in the inverse dictionary\n",
    "        if val ∉ keys(inverse)\n",
    "            # The inverse dictionary takes the values of the original dictionary as its keys\n",
    "            inverse[val] = [key] # Creates a new key and the value is an array of the original key\n",
    "        \n",
    "        else\n",
    "            # If not push the key into the inverse\n",
    "            push!(inverse[val], key) # inverse[val] is an array. We push the keys into the respective arrays\n",
    "        end\n",
    "    end\n",
    "    return inverse\n",
    "end"
   ]
  },
  {
   "cell_type": "code",
   "execution_count": 25,
   "metadata": {},
   "outputs": [
    {
     "data": {
      "text/plain": [
       "Dict{Any,Any} with 2 entries:\n",
       "  2 => ['r']\n",
       "  1 => ['a', 'p', 'o', 't']"
      ]
     },
     "execution_count": 25,
     "metadata": {},
     "output_type": "execute_result"
    }
   ],
   "source": [
    "hist = histogram(\"parrot\"); invertdict(hist)"
   ]
  },
  {
   "cell_type": "markdown",
   "metadata": {},
   "source": [
    "# Fibonacci using a dictionary\n",
    "\n",
    "We use a dictionary to store values of fibonacci numbers. \n",
    "\n"
   ]
  },
  {
   "cell_type": "code",
   "execution_count": 26,
   "metadata": {},
   "outputs": [
    {
     "data": {
      "text/plain": [
       "Dict{Int64,Int64} with 2 entries:\n",
       "  0 => 0\n",
       "  1 => 1"
      ]
     },
     "execution_count": 26,
     "metadata": {},
     "output_type": "execute_result"
    }
   ],
   "source": [
    "known = Dict(0=>0, 1=>1)"
   ]
  },
  {
   "cell_type": "code",
   "execution_count": 27,
   "metadata": {},
   "outputs": [
    {
     "data": {
      "text/plain": [
       "fibonacci (generic function with 1 method)"
      ]
     },
     "execution_count": 27,
     "metadata": {},
     "output_type": "execute_result"
    }
   ],
   "source": [
    "function fibonacci(n)\n",
    "    \"\"\"Input is an integer n. Returns the nth fibonacci number.\"\"\"\n",
    "    n = BigInt(n)\n",
    "    \n",
    "    # the \"known\" dictionary contains the key of the nth fibonacci number. The program checks known first if it contains n\n",
    "    if n ∈ keys(known)\n",
    "        return known[n]\n",
    "    end\n",
    "    \n",
    "    res = fibonacci(n-1) + fibonacci(n-2)\n",
    "    known[n] = res\n",
    "    res\n",
    "end"
   ]
  },
  {
   "cell_type": "code",
   "execution_count": 28,
   "metadata": {},
   "outputs": [
    {
     "data": {
      "text/plain": [
       "3736710778780434371"
      ]
     },
     "execution_count": 28,
     "metadata": {},
     "output_type": "execute_result"
    }
   ],
   "source": [
    "fibonacci(100)"
   ]
  },
  {
   "cell_type": "markdown",
   "metadata": {},
   "source": [
    "# Global Variables"
   ]
  },
  {
   "cell_type": "code",
   "execution_count": 29,
   "metadata": {},
   "outputs": [
    {
     "data": {
      "text/plain": [
       "example1 (generic function with 1 method)"
      ]
     },
     "execution_count": 29,
     "metadata": {},
     "output_type": "execute_result"
    }
   ],
   "source": [
    "verbose = true\n",
    "\n",
    "function example1()\n",
    "    if verbose\n",
    "        println(\"Running example1\")\n",
    "    end\n",
    "end"
   ]
  },
  {
   "cell_type": "code",
   "execution_count": 30,
   "metadata": {},
   "outputs": [
    {
     "name": "stdout",
     "output_type": "stream",
     "text": [
      "Running example1\n"
     ]
    },
    {
     "data": {
      "text/plain": [
       "true"
      ]
     },
     "execution_count": 30,
     "metadata": {},
     "output_type": "execute_result"
    }
   ],
   "source": [
    "example1()\n",
    "verbose"
   ]
  },
  {
   "cell_type": "code",
   "execution_count": null,
   "metadata": {},
   "outputs": [],
   "source": []
  },
  {
   "cell_type": "code",
   "execution_count": 31,
   "metadata": {},
   "outputs": [
    {
     "data": {
      "text/plain": [
       "example2 (generic function with 1 method)"
      ]
     },
     "execution_count": 31,
     "metadata": {},
     "output_type": "execute_result"
    }
   ],
   "source": [
    "been_called = false\n",
    "\n",
    "function example2()\n",
    "    been_called = true         # been_called does not change because it is a new local variable\n",
    "end"
   ]
  },
  {
   "cell_type": "code",
   "execution_count": 32,
   "metadata": {},
   "outputs": [
    {
     "data": {
      "text/plain": [
       "false"
      ]
     },
     "execution_count": 32,
     "metadata": {},
     "output_type": "execute_result"
    }
   ],
   "source": [
    "example2()\n",
    "been_called"
   ]
  },
  {
   "cell_type": "code",
   "execution_count": null,
   "metadata": {},
   "outputs": [],
   "source": []
  },
  {
   "cell_type": "code",
   "execution_count": 33,
   "metadata": {},
   "outputs": [
    {
     "data": {
      "text/plain": [
       "example2 (generic function with 1 method)"
      ]
     },
     "execution_count": 33,
     "metadata": {},
     "output_type": "execute_result"
    }
   ],
   "source": [
    "been_called = false\n",
    "\n",
    "function example2()\n",
    "    global been_called\n",
    "    been_called = true         # been_called changes because it is a now a global variable\n",
    "end"
   ]
  },
  {
   "cell_type": "code",
   "execution_count": 34,
   "metadata": {},
   "outputs": [
    {
     "data": {
      "text/plain": [
       "true"
      ]
     },
     "execution_count": 34,
     "metadata": {},
     "output_type": "execute_result"
    }
   ],
   "source": [
    "example2(); been_called"
   ]
  },
  {
   "cell_type": "code",
   "execution_count": null,
   "metadata": {},
   "outputs": [],
   "source": []
  },
  {
   "cell_type": "code",
   "execution_count": 35,
   "metadata": {},
   "outputs": [
    {
     "ename": "UndefVarError",
     "evalue": "UndefVarError: count not defined",
     "output_type": "error",
     "traceback": [
      "UndefVarError: count not defined",
      "",
      "Stacktrace:",
      " [1] example3() at .\\In[35]:4",
      " [2] top-level scope at In[35]:6"
     ]
    }
   ],
   "source": [
    "count = 0\n",
    "\n",
    "function example3()\n",
    "    count = count + 1          # count is created as a local variable\n",
    "end\n",
    "\n",
    "example3()"
   ]
  },
  {
   "cell_type": "code",
   "execution_count": null,
   "metadata": {},
   "outputs": [],
   "source": []
  },
  {
   "cell_type": "code",
   "execution_count": 36,
   "metadata": {},
   "outputs": [
    {
     "data": {
      "text/plain": [
       "1"
      ]
     },
     "execution_count": 36,
     "metadata": {},
     "output_type": "execute_result"
    }
   ],
   "source": [
    "count = 0\n",
    "\n",
    "function example4()\n",
    "    global count = count + 1          # count is created as a local variable\n",
    "end\n",
    "\n",
    "example4()"
   ]
  },
  {
   "cell_type": "code",
   "execution_count": null,
   "metadata": {},
   "outputs": [],
   "source": []
  },
  {
   "cell_type": "code",
   "execution_count": 37,
   "metadata": {},
   "outputs": [
    {
     "data": {
      "text/plain": [
       "example4 (generic function with 1 method)"
      ]
     },
     "execution_count": 37,
     "metadata": {},
     "output_type": "execute_result"
    }
   ],
   "source": [
    "known = Dict(0=>0, 1=>1)\n",
    "\n",
    "function example4()\n",
    "    known[2] = 1\n",
    "end"
   ]
  },
  {
   "cell_type": "markdown",
   "metadata": {},
   "source": [
    "# Exercises\n",
    "\n",
    "Memoize the Ackermann function"
   ]
  },
  {
   "cell_type": "code",
   "execution_count": 38,
   "metadata": {},
   "outputs": [
    {
     "data": {
      "text/plain": [
       "Dict{Any,Any} with 0 entries"
      ]
     },
     "execution_count": 38,
     "metadata": {},
     "output_type": "execute_result"
    }
   ],
   "source": [
    "known = Dict()"
   ]
  },
  {
   "cell_type": "code",
   "execution_count": 39,
   "metadata": {},
   "outputs": [
    {
     "data": {
      "text/plain": [
       "Ackermann_memoized (generic function with 2 methods)"
      ]
     },
     "execution_count": 39,
     "metadata": {},
     "output_type": "execute_result"
    }
   ],
   "source": [
    "function Ackermann_memoized(m,n,print_conds=false)\n",
    "    \"\"\"\n",
    "    Memoizing the ackermann function by storing the values of [m,n] as keys and the result of Ackermann(m,n) as the value.\n",
    "    Unknown pairs will be added to the dictionary. \n",
    "    \"\"\"\n",
    "    #global count += 1\n",
    "    \n",
    "    if print_conds == true\n",
    "        println(\"$count iteration/s\")\n",
    "    end\n",
    "    \n",
    "    m,n = BigInt(m), BigInt(n)\n",
    "    key_value = [m,n]\n",
    "    \n",
    "    if key_value ∈ keys(known)\n",
    "        if print_conds == true\n",
    "            println(\"Value already in dictionary\")\n",
    "        end\n",
    "        return known[key_value]\n",
    "    end\n",
    "    \n",
    "    if m == 0\n",
    "        if print_conds == true\n",
    "            println(\"ran 1st cond\")\n",
    "        end\n",
    "        return n + 1\n",
    "        \n",
    "    elseif (m > 0) && (n == 0)\n",
    "        if print_conds == true\n",
    "            println(\"ran 2nd cond\")\n",
    "        end\n",
    "        \n",
    "        ans = Ackermann_memoized(m-1, 1)\n",
    "        known[key_value] = ans\n",
    "        return ans\n",
    "        \n",
    "    elseif (m>0) && (n>0)\n",
    "        if print_conds == true\n",
    "            println(\"ran 3rd cond\")\n",
    "        end\n",
    "        \n",
    "        ans = Ackermann_memoized(m-1, Ackermann_memoized(m,n-1))\n",
    "        known[key_value] = ans\n",
    "        return ans\n",
    "    end\n",
    "end"
   ]
  },
  {
   "cell_type": "code",
   "execution_count": 68,
   "metadata": {},
   "outputs": [
    {
     "data": {
      "text/plain": [
       "253"
      ]
     },
     "execution_count": 68,
     "metadata": {},
     "output_type": "execute_result"
    }
   ],
   "source": [
    "#count = 0\n",
    "Ackermann_memoized(3,5)"
   ]
  },
  {
   "cell_type": "code",
   "execution_count": 69,
   "metadata": {},
   "outputs": [
    {
     "data": {
      "text/plain": [
       "6039"
      ]
     },
     "execution_count": 69,
     "metadata": {},
     "output_type": "execute_result"
    }
   ],
   "source": [
    "length(known)"
   ]
  },
  {
   "cell_type": "code",
   "execution_count": null,
   "metadata": {},
   "outputs": [],
   "source": []
  },
  {
   "cell_type": "code",
   "execution_count": null,
   "metadata": {},
   "outputs": [],
   "source": []
  },
  {
   "cell_type": "code",
   "execution_count": null,
   "metadata": {},
   "outputs": [],
   "source": []
  },
  {
   "cell_type": "code",
   "execution_count": null,
   "metadata": {},
   "outputs": [],
   "source": []
  }
 ],
 "metadata": {
  "@webio": {
   "lastCommId": null,
   "lastKernelId": null
  },
  "kernelspec": {
   "display_name": "Julia 1.1.1",
   "language": "julia",
   "name": "julia-1.1"
  },
  "language_info": {
   "file_extension": ".jl",
   "mimetype": "application/julia",
   "name": "julia",
   "version": "1.1.1"
  }
 },
 "nbformat": 4,
 "nbformat_minor": 2
}
