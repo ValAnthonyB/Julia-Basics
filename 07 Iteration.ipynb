{
 "cells": [
  {
   "cell_type": "markdown",
   "metadata": {},
   "source": [
    "Iteration is used when doing a block of statements repeatedly. There are three main ways in looping - for loops, while loops, and recursion"
   ]
  },
  {
   "cell_type": "markdown",
   "metadata": {},
   "source": [
    "# Reassignment"
   ]
  },
  {
   "cell_type": "code",
   "execution_count": 6,
   "metadata": {},
   "outputs": [
    {
     "data": {
      "text/plain": [
       "5"
      ]
     },
     "execution_count": 6,
     "metadata": {},
     "output_type": "execute_result"
    }
   ],
   "source": [
    "x = 5"
   ]
  },
  {
   "cell_type": "code",
   "execution_count": 7,
   "metadata": {},
   "outputs": [
    {
     "data": {
      "text/plain": [
       "7"
      ]
     },
     "execution_count": 7,
     "metadata": {},
     "output_type": "execute_result"
    }
   ],
   "source": [
    "x = 7"
   ]
  },
  {
   "cell_type": "code",
   "execution_count": 8,
   "metadata": {},
   "outputs": [
    {
     "data": {
      "text/plain": [
       "5"
      ]
     },
     "execution_count": 8,
     "metadata": {},
     "output_type": "execute_result"
    }
   ],
   "source": [
    "a = 5\n",
    "b = a"
   ]
  },
  {
   "cell_type": "code",
   "execution_count": 9,
   "metadata": {},
   "outputs": [
    {
     "data": {
      "text/plain": [
       "3"
      ]
     },
     "execution_count": 9,
     "metadata": {},
     "output_type": "execute_result"
    }
   ],
   "source": [
    "a = 3"
   ]
  },
  {
   "cell_type": "code",
   "execution_count": 10,
   "metadata": {},
   "outputs": [
    {
     "data": {
      "text/plain": [
       "false"
      ]
     },
     "execution_count": 10,
     "metadata": {},
     "output_type": "execute_result"
    }
   ],
   "source": [
    "a == b # Since the value of a is reassigned"
   ]
  },
  {
   "cell_type": "markdown",
   "metadata": {},
   "source": [
    "# Updating variables"
   ]
  },
  {
   "cell_type": "markdown",
   "metadata": {},
   "source": [
    "### Incrementing"
   ]
  },
  {
   "cell_type": "code",
   "execution_count": 11,
   "metadata": {},
   "outputs": [
    {
     "data": {
      "text/plain": [
       "2"
      ]
     },
     "execution_count": 11,
     "metadata": {},
     "output_type": "execute_result"
    }
   ],
   "source": [
    "x = 1\n",
    "x += 1\n",
    "x"
   ]
  },
  {
   "cell_type": "markdown",
   "metadata": {},
   "source": [
    "### Decrementing"
   ]
  },
  {
   "cell_type": "code",
   "execution_count": 12,
   "metadata": {},
   "outputs": [
    {
     "data": {
      "text/plain": [
       "-1"
      ]
     },
     "execution_count": 12,
     "metadata": {},
     "output_type": "execute_result"
    }
   ],
   "source": [
    "y = 0\n",
    "y -= 1"
   ]
  },
  {
   "cell_type": "markdown",
   "metadata": {},
   "source": [
    "# While loop"
   ]
  },
  {
   "cell_type": "code",
   "execution_count": 13,
   "metadata": {},
   "outputs": [
    {
     "data": {
      "text/plain": [
       "countdown (generic function with 1 method)"
      ]
     },
     "execution_count": 13,
     "metadata": {},
     "output_type": "execute_result"
    }
   ],
   "source": [
    "function countdown(n)\n",
    "    while n > 0 # If the condition is no longer satisfied, the while loop breaks. \n",
    "                # If the condition is still true, it continues looping\n",
    "        print(n, \" \")\n",
    "        n -= 1\n",
    "    end\n",
    "    println(\"Blastoff!\")\n",
    "end"
   ]
  },
  {
   "cell_type": "code",
   "execution_count": 14,
   "metadata": {},
   "outputs": [
    {
     "name": "stdout",
     "output_type": "stream",
     "text": [
      "20 19 18 17 16 15 14 13 12 11 10 9 8 7 6 5 4 3 2 1 Blastoff!\n"
     ]
    }
   ],
   "source": [
    "n = 20\n",
    "countdown(n)"
   ]
  },
  {
   "cell_type": "markdown",
   "metadata": {},
   "source": [
    "# Break statement"
   ]
  },
  {
   "cell_type": "code",
   "execution_count": 15,
   "metadata": {},
   "outputs": [
    {
     "data": {
      "text/plain": [
       "\"line\""
      ]
     },
     "execution_count": 15,
     "metadata": {},
     "output_type": "execute_result"
    }
   ],
   "source": [
    "line = \"line\""
   ]
  },
  {
   "cell_type": "code",
   "execution_count": 16,
   "metadata": {},
   "outputs": [
    {
     "name": "stdout",
     "output_type": "stream",
     "text": [
      ">stdin> done\n",
      "Done!\n"
     ]
    }
   ],
   "source": [
    "# Since the condition is always true, the while loops runs forever until the break statement is satisfied\n",
    "\n",
    "while true\n",
    "    print(\">\")\n",
    "    line = readline()\n",
    "    \n",
    "    if line == \"done\" || line == \"Done\" # stops when this happens\n",
    "        println(\"Done!\")\n",
    "        break\n",
    "    else\n",
    "        println(line)\n",
    "    end\n",
    "end"
   ]
  },
  {
   "cell_type": "markdown",
   "metadata": {},
   "source": [
    "# Continue statement\n",
    "\n",
    "When a continue statement is encountered inside a loop, control jumps to the beginning of the loop for the next iteration, skipping the execution of statements inside the body of the loop for the current iteration."
   ]
  },
  {
   "cell_type": "code",
   "execution_count": 17,
   "metadata": {},
   "outputs": [
    {
     "name": "stdout",
     "output_type": "stream",
     "text": [
      "1 2 4 5 7 8 10 "
     ]
    }
   ],
   "source": [
    "for i in 1:10\n",
    "    if i % 3 == 0\n",
    "        continue\n",
    "    end\n",
    "        print(i, \" \") # Doesn't print numbers divisible by 3\n",
    "end"
   ]
  },
  {
   "cell_type": "markdown",
   "metadata": {},
   "source": [
    "# Square roots using Newton's method\n",
    "\n",
    "Loops are often used in programs that compute numerical results by starting with an approximate answer and iteratively improving it. Here we use Newton's method to compute the square root of a number $a$.\n",
    "\n",
    "$y = \\frac12 (x + \\frac{a}{x})$"
   ]
  },
  {
   "cell_type": "code",
   "execution_count": 18,
   "metadata": {},
   "outputs": [
    {
     "data": {
      "text/plain": [
       "3"
      ]
     },
     "execution_count": 18,
     "metadata": {},
     "output_type": "execute_result"
    }
   ],
   "source": [
    "a = 4\n",
    "x = 3 # Arbitrary number"
   ]
  },
  {
   "cell_type": "code",
   "execution_count": 19,
   "metadata": {},
   "outputs": [
    {
     "data": {
      "text/plain": [
       "2.1666666666666665"
      ]
     },
     "execution_count": 19,
     "metadata": {},
     "output_type": "execute_result"
    }
   ],
   "source": [
    "(x + a/x) / 2"
   ]
  },
  {
   "cell_type": "markdown",
   "metadata": {},
   "source": [
    "### Doing more iterations makes the approximation even better. Here we propose two solutions - using a for loop and a while loop"
   ]
  },
  {
   "cell_type": "code",
   "execution_count": 20,
   "metadata": {},
   "outputs": [
    {
     "name": "stdout",
     "output_type": "stream",
     "text": [
      "2.1666666666666665\n",
      "2.0064102564102564\n",
      "2.0000102400262145\n",
      "2.0000000000262146\n",
      "2.0\n",
      "5th iteration\n",
      "√4 = 2.0"
     ]
    }
   ],
   "source": [
    "# for loop\n",
    "\n",
    "a = 4\n",
    "x = 3\n",
    "ϵ = 0.00000005\n",
    "\n",
    "for i in 1:20\n",
    "    y = (x + (a/x)) / 2\n",
    "    println(y)\n",
    "    \n",
    "    if abs(y - x) < ϵ\n",
    "        println(i, \"th iteration\")\n",
    "        break\n",
    "    end\n",
    "    x = y\n",
    "end\n",
    "\n",
    "print(\"√\", a, \" = \", y)"
   ]
  },
  {
   "cell_type": "code",
   "execution_count": 21,
   "metadata": {},
   "outputs": [
    {
     "name": "stdout",
     "output_type": "stream",
     "text": [
      "0.5\n",
      "4.25\n",
      "2.5955882352941178\n",
      "2.068332361273121\n",
      "2.001128762399261\n",
      "2.0000003183464696\n",
      "2.0000000000000253\n",
      "2.0\n"
     ]
    }
   ],
   "source": [
    "# while loop\n",
    "a = 4\n",
    "x = 0.5\n",
    "ϵ = 0.00000005\n",
    "max_iter = 20\n",
    "\n",
    "i = 0\n",
    "while true\n",
    "    println(x)\n",
    "    y = (x + (a/x)) / 2\n",
    "    \n",
    "    if abs(y - x) < ϵ\n",
    "        break\n",
    "        \n",
    "    elseif i == max_iter\n",
    "        println(\"Maximum iterations reached!\")\n",
    "        break\n",
    "    end\n",
    "    \n",
    "    x = y\n",
    "    i += 1\n",
    "    \n",
    "end\n",
    "\n",
    "println(y)"
   ]
  },
  {
   "cell_type": "code",
   "execution_count": 22,
   "metadata": {},
   "outputs": [
    {
     "data": {
      "text/plain": [
       "mysqrt (generic function with 3 methods)"
      ]
     },
     "execution_count": 22,
     "metadata": {},
     "output_type": "execute_result"
    }
   ],
   "source": [
    "function mysqrt(a, x, ϵ=0.0001, max_iter=20)\n",
    "    for i in 1:max_iter\n",
    "        y = (x + (a/x)) / 2\n",
    "\n",
    "        if abs(y - x) < ϵ\n",
    "            break\n",
    "        end\n",
    "        x = y\n",
    "    end\n",
    "    y\n",
    "end"
   ]
  },
  {
   "cell_type": "code",
   "execution_count": 23,
   "metadata": {},
   "outputs": [
    {
     "data": {
      "text/plain": [
       "testsquareroot (generic function with 1 method)"
      ]
     },
     "execution_count": 23,
     "metadata": {},
     "output_type": "execute_result"
    }
   ],
   "source": [
    "function testsquareroot()\n",
    "    println(\"a\", \" \"^5, \"mysqrt\", \" \"^5, \"sqrt\", \" \"^30, \"|diff|\",)\n",
    "    println(\"-\", \" \"^5, \"-\"^length(\"mysqrt\"), \" \"^5, \"-\"^length(\"sqrt\"), \" \"^30, \"-\"^length(\"|diff|\"))\n",
    "\n",
    "    for i in 1:9\n",
    "        newton = mysqrt(i, 5)\n",
    "        true_val = sqrt(i)\n",
    "        println(i, \" \"^5, newton, \" \"^5, true_val, \" \"^30, abs(newton - true_val)) \n",
    "    end\n",
    "end"
   ]
  },
  {
   "cell_type": "code",
   "execution_count": 24,
   "metadata": {},
   "outputs": [
    {
     "name": "stdout",
     "output_type": "stream",
     "text": [
      "a     mysqrt     sqrt                              |diff|\n",
      "-     ------     ----                              ------\n",
      "1     2.0     1.0                              1.0\n",
      "2     2.0     1.4142135623730951                              0.5857864376269049\n",
      "3     2.0     1.7320508075688772                              0.2679491924311228\n",
      "4     2.0     2.0                              0.0\n",
      "5     2.0     2.23606797749979                              0.2360679774997898\n",
      "6     2.0     2.449489742783178                              0.4494897427831779\n",
      "7     2.0     2.6457513110645907                              0.6457513110645907\n",
      "8     2.0     2.8284271247461903                              0.8284271247461903\n",
      "9     2.0     3.0                              1.0\n"
     ]
    }
   ],
   "source": [
    "testsquareroot()"
   ]
  },
  {
   "cell_type": "markdown",
   "metadata": {},
   "source": [
    "2. Write a function called evalloop that iteratively prompts the user, takes the resulting input and evaluates it using eval, and prints the result. It should continue until the user enters done, and then return the value of the last expression it evaluated."
   ]
  },
  {
   "cell_type": "code",
   "execution_count": 25,
   "metadata": {},
   "outputs": [
    {
     "data": {
      "text/plain": [
       "6"
      ]
     },
     "execution_count": 25,
     "metadata": {},
     "output_type": "execute_result"
    }
   ],
   "source": [
    "expr = Meta.parse(\"1+2+3\")\n",
    "eval(expr)"
   ]
  },
  {
   "cell_type": "code",
   "execution_count": 26,
   "metadata": {},
   "outputs": [
    {
     "data": {
      "text/plain": [
       "2.449489742783178"
      ]
     },
     "execution_count": 26,
     "metadata": {},
     "output_type": "execute_result"
    }
   ],
   "source": [
    "expr = Meta.parse(\"√6\")\n",
    "eval(expr)"
   ]
  },
  {
   "cell_type": "code",
   "execution_count": 29,
   "metadata": {},
   "outputs": [
    {
     "name": "stdout",
     "output_type": "stream",
     "text": [
      "stdin> data\n"
     ]
    },
    {
     "data": {
      "text/plain": [
       ":data"
      ]
     },
     "execution_count": 29,
     "metadata": {},
     "output_type": "execute_result"
    }
   ],
   "source": [
    "expr = Meta.parse(readline())"
   ]
  },
  {
   "cell_type": "code",
   "execution_count": 30,
   "metadata": {},
   "outputs": [
    {
     "data": {
      "text/plain": [
       "\"data\""
      ]
     },
     "execution_count": 30,
     "metadata": {},
     "output_type": "execute_result"
    }
   ],
   "source": [
    "string(expr)"
   ]
  },
  {
   "cell_type": "code",
   "execution_count": 31,
   "metadata": {},
   "outputs": [
    {
     "data": {
      "text/plain": [
       "evalloop (generic function with 1 method)"
      ]
     },
     "execution_count": 31,
     "metadata": {},
     "output_type": "execute_result"
    }
   ],
   "source": [
    "function evalloop()\n",
    "    while true\n",
    "        input = readline()   \n",
    "        \n",
    "        if input != \"done\"\n",
    "            expr = Meta.parse(input)\n",
    "            global evaluated = eval(expr) #problematic\n",
    "            println(evaluated)\n",
    "        else\n",
    "            return evaluated\n",
    "            break\n",
    "        end\n",
    "    end \n",
    "end"
   ]
  },
  {
   "cell_type": "code",
   "execution_count": 32,
   "metadata": {},
   "outputs": [
    {
     "name": "stdout",
     "output_type": "stream",
     "text": [
      "stdin> 1-1\n",
      "0\n",
      "stdin> done\n"
     ]
    },
    {
     "data": {
      "text/plain": [
       "0"
      ]
     },
     "execution_count": 32,
     "metadata": {},
     "output_type": "execute_result"
    }
   ],
   "source": [
    "evalloop()"
   ]
  },
  {
   "cell_type": "markdown",
   "metadata": {},
   "source": [
    "3. Write a function called estimatepi that uses Ramanujan's formula for pi to compute and return an estimate of π. It should use a while loop to compute terms of the summation until the last term is smaller than 1e-15 (which is Julia notation for 10−15). You can check the result by comparing it to π.\n",
    "\n",
    "$$\\frac1\\pi = \\frac{2\\sqrt{2}}{9801} \\sum_{k=0}^{\\infty}\\frac{(4k)!(1103 + 26390k)}{(k!)^4 396^{4k}}$$"
   ]
  },
  {
   "cell_type": "code",
   "execution_count": 35,
   "metadata": {},
   "outputs": [
    {
     "data": {
      "text/plain": [
       "estimatepi (generic function with 1 method)"
      ]
     },
     "execution_count": 35,
     "metadata": {},
     "output_type": "execute_result"
    }
   ],
   "source": [
    "function estimatepi()\n",
    "    tol = 1e-15\n",
    "    k = 0\n",
    "    partial_sum = 0\n",
    "    \n",
    "    while true\n",
    "        partial_sum +=  factorial(4 * k) * (1103 + 26390k) / (factorial(k)^4 * 396^(4*k)) #makes the partial sum\n",
    "        global pi_val = 1 / ((2*(√2) / 9801) * partial_sum) #computes pi\n",
    "\n",
    "        if abs(pi_val - π) < 10e-15 # stopping criteria\n",
    "            break\n",
    "        else #if stopping criteria isn't met, increment k\n",
    "            k+=1\n",
    "            println(k, \" iteration/s\")\n",
    "        end\n",
    "    end\n",
    "    return pi_val\n",
    "end"
   ]
  },
  {
   "cell_type": "code",
   "execution_count": 36,
   "metadata": {},
   "outputs": [
    {
     "name": "stdout",
     "output_type": "stream",
     "text": [
      "1 iteration/s\n"
     ]
    },
    {
     "data": {
      "text/plain": [
       "3.1415926535897936"
      ]
     },
     "execution_count": 36,
     "metadata": {},
     "output_type": "execute_result"
    }
   ],
   "source": [
    "estimatepi()"
   ]
  }
 ],
 "metadata": {
  "celltoolbar": "Raw Cell Format",
  "kernelspec": {
   "display_name": "Julia 1.1.1",
   "language": "julia",
   "name": "julia-1.1"
  },
  "language_info": {
   "file_extension": ".jl",
   "mimetype": "application/julia",
   "name": "julia",
   "version": "1.1.1"
  }
 },
 "nbformat": 4,
 "nbformat_minor": 2
}
